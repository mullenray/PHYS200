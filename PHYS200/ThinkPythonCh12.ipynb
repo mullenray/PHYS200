{
 "metadata": {
  "name": "ThinkPythonCh12"
 }, 
 "nbformat": 2, 
 "worksheets": [
  {
   "cells": [
    {
     "cell_type": "code", 
     "collapsed": true, 
     "input": [
      "t=('a','b','c','d','e')"
     ], 
     "language": "python", 
     "outputs": [], 
     "prompt_number": 1
    }, 
    {
     "cell_type": "code", 
     "collapsed": true, 
     "input": [
      "t1=('a',)"
     ], 
     "language": "python", 
     "outputs": [], 
     "prompt_number": 2
    }, 
    {
     "cell_type": "code", 
     "collapsed": false, 
     "input": [
      "type(t1)"
     ], 
     "language": "python", 
     "outputs": [
      {
       "output_type": "pyout", 
       "prompt_number": 3, 
       "text": [
        "tuple"
       ]
      }
     ], 
     "prompt_number": 3
    }, 
    {
     "cell_type": "code", 
     "collapsed": false, 
     "input": [
      "t2=('a')", 
      "type(t2)"
     ], 
     "language": "python", 
     "outputs": [
      {
       "output_type": "pyout", 
       "prompt_number": 5, 
       "text": [
        "str"
       ]
      }
     ], 
     "prompt_number": 5
    }, 
    {
     "cell_type": "code", 
     "collapsed": false, 
     "input": [
      "tu=tuple()", 
      "print tu"
     ], 
     "language": "python", 
     "outputs": [
      {
       "output_type": "stream", 
       "stream": "stdout", 
       "text": [
        "()"
       ]
      }
     ], 
     "prompt_number": 7
    }, 
    {
     "cell_type": "code", 
     "collapsed": false, 
     "input": [
      "tu=tuple('lipins')", 
      "print tu"
     ], 
     "language": "python", 
     "outputs": [
      {
       "output_type": "stream", 
       "stream": "stdout", 
       "text": [
        "(&apos;l&apos;, &apos;i&apos;, &apos;p&apos;, &apos;i&apos;, &apos;n&apos;, &apos;s&apos;)"
       ]
      }
     ], 
     "prompt_number": 9
    }, 
    {
     "cell_type": "code", 
     "collapsed": false, 
     "input": [
      "print t[0]"
     ], 
     "language": "python", 
     "outputs": [
      {
       "output_type": "stream", 
       "stream": "stdout", 
       "text": [
        "a"
       ]
      }
     ], 
     "prompt_number": 10
    }, 
    {
     "cell_type": "code", 
     "collapsed": false, 
     "input": [
      "print t[:3]"
     ], 
     "language": "python", 
     "outputs": [
      {
       "output_type": "stream", 
       "stream": "stdout", 
       "text": [
        "(&apos;a&apos;, &apos;b&apos;, &apos;c&apos;)"
       ]
      }
     ], 
     "prompt_number": 11
    }, 
    {
     "cell_type": "code", 
     "collapsed": false, 
     "input": [
      "t[0]='A'"
     ], 
     "language": "python", 
     "outputs": [
      {
       "ename": "TypeError", 
       "evalue": "'tuple' object does not support item assignment", 
       "output_type": "pyerr", 
       "traceback": [
        "<span class=\"ansired\">---------------------------------------------------------------------------</span>\n<span class=\"ansired\">TypeError</span>                                 Traceback (most recent call last)", 
        "<span class=\"ansigreen\">/Users/RayRay/PHYS200/&lt;ipython-input-12-adc73575861a&gt;</span> in <span class=\"ansicyan\">&lt;module&gt;</span><span class=\"ansiblue\">()</span>\n<span class=\"ansigreen\">----&gt; 1</span><span class=\"ansired\"> </span>t<span class=\"ansiblue\">[</span><span class=\"ansicyan\">0</span><span class=\"ansiblue\">]</span><span class=\"ansiblue\">=</span><span class=\"ansiblue\">&apos;A&apos;</span><span class=\"ansiblue\"></span>\n", 
        "<span class=\"ansired\">TypeError</span>: &apos;tuple&apos; object does not support item assignment"
       ]
      }
     ], 
     "prompt_number": 12
    }, 
    {
     "cell_type": "code", 
     "collapsed": true, 
     "input": [
      "t=('A',)+t[1:]"
     ], 
     "language": "python", 
     "outputs": [], 
     "prompt_number": 13
    }, 
    {
     "cell_type": "code", 
     "collapsed": false, 
     "input": [
      "print t"
     ], 
     "language": "python", 
     "outputs": [
      {
       "output_type": "stream", 
       "stream": "stdout", 
       "text": [
        "(&apos;A&apos;, &apos;b&apos;, &apos;c&apos;, &apos;d&apos;, &apos;e&apos;)"
       ]
      }
     ], 
     "prompt_number": 14
    }, 
    {
     "cell_type": "code", 
     "collapsed": true, 
     "input": [
      "addr='monty@python.org'", 
      "uname, domain = addr.split('@')"
     ], 
     "language": "python", 
     "outputs": [], 
     "prompt_number": 21
    }, 
    {
     "cell_type": "code", 
     "collapsed": false, 
     "input": [
      "print uname", 
      "print domain"
     ], 
     "language": "python", 
     "outputs": [
      {
       "output_type": "stream", 
       "stream": "stdout", 
       "text": [
        "monty", 
        "python.org"
       ]
      }
     ], 
     "prompt_number": 22
    }, 
    {
     "cell_type": "code", 
     "collapsed": false, 
     "input": [
      "t=divmod(7,3)", 
      "print t"
     ], 
     "language": "python", 
     "outputs": [
      {
       "output_type": "stream", 
       "stream": "stdout", 
       "text": [
        "(2, 1)"
       ]
      }
     ], 
     "prompt_number": 23
    }, 
    {
     "cell_type": "code", 
     "collapsed": false, 
     "input": [
      "quot, rem = divmod(7,3)", 
      "print quot", 
      "print rem"
     ], 
     "language": "python", 
     "outputs": [
      {
       "output_type": "stream", 
       "stream": "stdout", 
       "text": [
        "2", 
        "1"
       ]
      }
     ], 
     "prompt_number": 25
    }, 
    {
     "cell_type": "code", 
     "collapsed": true, 
     "input": [
      "def min_max(t):", 
      "    return min(t), max(t)"
     ], 
     "language": "python", 
     "outputs": [], 
     "prompt_number": 26
    }, 
    {
     "cell_type": "code", 
     "collapsed": false, 
     "input": [
      "min_max(t)"
     ], 
     "language": "python", 
     "outputs": [
      {
       "output_type": "pyout", 
       "prompt_number": 27, 
       "text": [
        "(1, 2)"
       ]
      }
     ], 
     "prompt_number": 27
    }, 
    {
     "cell_type": "code", 
     "collapsed": false, 
     "input": [
      "d=('h','t','p','b','d','b','m','m','e','t','s')", 
      "min_max(d)"
     ], 
     "language": "python", 
     "outputs": [
      {
       "output_type": "pyout", 
       "prompt_number": 28, 
       "text": [
        "(&apos;b&apos;, &apos;t&apos;)"
       ]
      }
     ], 
     "prompt_number": 28
    }, 
    {
     "cell_type": "code", 
     "collapsed": true, 
     "input": [
      "d=(('w','h'),('p','t'),('j','p'),('t','b'),('p','d'),('c','b'),('s','m'),('p','m'),('c','e'),('d','t'),('m','s'))"
     ], 
     "language": "python", 
     "outputs": [], 
     "prompt_number": 31
    }, 
    {
     "cell_type": "code", 
     "collapsed": false, 
     "input": [
      "min_max(d)"
     ], 
     "language": "python", 
     "outputs": [
      {
       "output_type": "pyout", 
       "prompt_number": 32, 
       "text": [
        "((&apos;c&apos;, &apos;b&apos;), (&apos;w&apos;, &apos;h&apos;))"
       ]
      }
     ], 
     "prompt_number": 32
    }, 
    {
     "cell_type": "code", 
     "collapsed": false, 
     "input": [
      "def printall(*args):", 
      "    print args", 
      "    ", 
      "printall(1,2.0,'3')"
     ], 
     "language": "python", 
     "outputs": [
      {
       "output_type": "stream", 
       "stream": "stdout", 
       "text": [
        "(1, 2.0, &apos;3&apos;)"
       ]
      }
     ], 
     "prompt_number": 33
    }, 
    {
     "cell_type": "code", 
     "collapsed": false, 
     "input": [
      "t=(7,3)", 
      "divmod(t)"
     ], 
     "language": "python", 
     "outputs": [
      {
       "ename": "TypeError", 
       "evalue": "divmod expected 2 arguments, got 1", 
       "output_type": "pyerr", 
       "traceback": [
        "<span class=\"ansired\">---------------------------------------------------------------------------</span>\n<span class=\"ansired\">TypeError</span>                                 Traceback (most recent call last)", 
        "<span class=\"ansigreen\">/Users/RayRay/PHYS200/&lt;ipython-input-34-c64a21940d59&gt;</span> in <span class=\"ansicyan\">&lt;module&gt;</span><span class=\"ansiblue\">()</span>\n<span class=\"ansigreen\">      1</span> t<span class=\"ansiblue\">=</span><span class=\"ansiblue\">(</span><span class=\"ansicyan\">7</span><span class=\"ansiblue\">,</span><span class=\"ansicyan\">3</span><span class=\"ansiblue\">)</span><span class=\"ansiblue\"></span>\n<span class=\"ansigreen\">----&gt; 2</span><span class=\"ansired\"> </span>divmod<span class=\"ansiblue\">(</span>t<span class=\"ansiblue\">)</span><span class=\"ansiblue\"></span>\n", 
        "<span class=\"ansired\">TypeError</span>: divmod expected 2 arguments, got 1"
       ]
      }
     ], 
     "prompt_number": 34
    }, 
    {
     "cell_type": "code", 
     "collapsed": false, 
     "input": [
      "divmod(*t)"
     ], 
     "language": "python", 
     "outputs": [
      {
       "output_type": "pyout", 
       "prompt_number": 35, 
       "text": [
        "(2, 1)"
       ]
      }
     ], 
     "prompt_number": 35
    }, 
    {
     "cell_type": "code", 
     "collapsed": true, 
     "input": [
      "#Exercise 12.1", 
      "def sumall(*t):", 
      "    x=0", 
      "    for i in range(len(t)):", 
      "        x += t[i]", 
      "    return x"
     ], 
     "language": "python", 
     "outputs": [], 
     "prompt_number": 36
    }, 
    {
     "cell_type": "code", 
     "collapsed": true, 
     "input": [
      "s=\"abc\"", 
      "t5=[0,1,2]"
     ], 
     "language": "python", 
     "outputs": [], 
     "prompt_number": 50
    }, 
    {
     "cell_type": "code", 
     "collapsed": false, 
     "input": [
      "zip(s,t5)"
     ], 
     "language": "python", 
     "outputs": [
      {
       "output_type": "pyout", 
       "prompt_number": 51, 
       "text": [
        "[(&apos;a&apos;, 0), (&apos;b&apos;, 1), (&apos;c&apos;, 2)]"
       ]
      }
     ], 
     "prompt_number": 51
    }, 
    {
     "cell_type": "code", 
     "collapsed": false, 
     "input": [
      "zip('Anne','Elk')"
     ], 
     "language": "python", 
     "outputs": [
      {
       "output_type": "pyout", 
       "prompt_number": 46, 
       "text": [
        "[(&apos;A&apos;, &apos;E&apos;), (&apos;n&apos;, &apos;l&apos;), (&apos;n&apos;, &apos;k&apos;)]"
       ]
      }
     ], 
     "prompt_number": 46
    }, 
    {
     "cell_type": "code", 
     "collapsed": false, 
     "input": [
      "t=Out[45]", 
      "print t"
     ], 
     "language": "python", 
     "outputs": [
      {
       "output_type": "stream", 
       "stream": "stdout", 
       "text": [
        "[(&apos;a&apos;, 0), (&apos;b&apos;, 1), (&apos;c&apos;, 2)]"
       ]
      }
     ], 
     "prompt_number": 47
    }, 
    {
     "cell_type": "code", 
     "collapsed": false, 
     "input": [
      "for letter, number in t:", 
      "    print number, letter"
     ], 
     "language": "python", 
     "outputs": [
      {
       "output_type": "stream", 
       "stream": "stdout", 
       "text": [
        "0 a", 
        "1 b", 
        "2 c"
       ]
      }
     ], 
     "prompt_number": 48
    }, 
    {
     "cell_type": "code", 
     "collapsed": true, 
     "input": [
      "def has_match(t1, t2):", 
      "    for x, y in zip(t1, t2):", 
      "        if x==y:", 
      "            return True", 
      "    return False"
     ], 
     "language": "python", 
     "outputs": [], 
     "prompt_number": 49
    }, 
    {
     "cell_type": "code", 
     "collapsed": false, 
     "input": [
      "has_match(s,t5)"
     ], 
     "language": "python", 
     "outputs": [
      {
       "output_type": "pyout", 
       "prompt_number": 52, 
       "text": [
        "False"
       ]
      }
     ], 
     "prompt_number": 52
    }, 
    {
     "cell_type": "code", 
     "collapsed": false, 
     "input": [
      "has_match('hammer', 'nail')"
     ], 
     "language": "python", 
     "outputs": [
      {
       "output_type": "pyout", 
       "prompt_number": 53, 
       "text": [
        "True"
       ]
      }
     ], 
     "prompt_number": 53
    }, 
    {
     "cell_type": "code", 
     "collapsed": false, 
     "input": [
      "d={'a':0, 'b':1, 'c':2}", 
      "t=d.items()", 
      "print t"
     ], 
     "language": "python", 
     "outputs": [
      {
       "output_type": "stream", 
       "stream": "stdout", 
       "text": [
        "[(&apos;a&apos;, 0), (&apos;c&apos;, 2), (&apos;b&apos;, 1)]"
       ]
      }
     ], 
     "prompt_number": 54
    }, 
    {
     "cell_type": "code", 
     "collapsed": false, 
     "input": [
      "t=[('a',0),('c',2),('b',1)]", 
      "d=dict(t)", 
      "print d"
     ], 
     "language": "python", 
     "outputs": [
      {
       "output_type": "stream", 
       "stream": "stdout", 
       "text": [
        "{&apos;a&apos;: 0, &apos;c&apos;: 2, &apos;b&apos;: 1}"
       ]
      }
     ], 
     "prompt_number": 55
    }, 
    {
     "cell_type": "code", 
     "collapsed": false, 
     "input": [
      "d=dict(zip('abc', range(3)))", 
      "print d"
     ], 
     "language": "python", 
     "outputs": [
      {
       "output_type": "stream", 
       "stream": "stdout", 
       "text": [
        "{&apos;a&apos;: 0, &apos;c&apos;: 2, &apos;b&apos;: 1}"
       ]
      }
     ], 
     "prompt_number": 57
    }, 
    {
     "cell_type": "code", 
     "collapsed": false, 
     "input": [
      "for key, val in d.items():", 
      "    print val, key"
     ], 
     "language": "python", 
     "outputs": [
      {
       "output_type": "stream", 
       "stream": "stdout", 
       "text": [
        "0 a", 
        "2 c", 
        "1 b"
       ]
      }
     ], 
     "prompt_number": 58
    }, 
    {
     "cell_type": "code", 
     "collapsed": false, 
     "input": [
      "(0,1,2)<(0,3,4)"
     ], 
     "language": "python", 
     "outputs": [
      {
       "output_type": "pyout", 
       "prompt_number": 65, 
       "text": [
        "True"
       ]
      }
     ], 
     "prompt_number": 65
    }, 
    {
     "cell_type": "code", 
     "collapsed": false, 
     "input": [
      "(0,1,2000000)<(0,3,4)"
     ], 
     "language": "python", 
     "outputs": [
      {
       "output_type": "pyout", 
       "prompt_number": 66, 
       "text": [
        "True"
       ]
      }
     ], 
     "prompt_number": 66
    }, 
    {
     "cell_type": "code", 
     "collapsed": false, 
     "input": [
      "def sort_by_length(words):", 
      "    t=[]", 
      "    for word in words:", 
      "        t.append((len(word),word))", 
      "        ", 
      "    t.sort(reverse=True)", 
      "    ", 
      "    res=[]", 
      "    for length, word in t:", 
      "        res.append(word)", 
      "    return res", 
      "", 
      "pets=('dog', 'chicken', 'rabbit', 'turtle', 'chinchilla')", 
      "sort_by_length(words)"
     ], 
     "language": "python", 
     "outputs": [
      {
       "output_type": "pyout", 
       "prompt_number": 71, 
       "text": [
        "[&apos;chinchilla&apos;, &apos;chicken&apos;, &apos;turtle&apos;, &apos;rabbit&apos;, &apos;dog&apos;]"
       ]
      }
     ], 
     "prompt_number": 71
    }, 
    {
     "cell_type": "code", 
     "collapsed": true, 
     "input": [
      "#Exercise 12.2", 
      "from random import shuffle", 
      "", 
      "def sort_by_length2(words):", 
      "    r=[]", 
      "    d=dict()", 
      "    for word in words:", 
      "        d.setdefault(len(word), []).append(word)", 
      "    for key in sorted(d, reverse=True):", 
      "        if len(d[key])>1:", 
      "            shuffle(d[key])", 
      "        r.extend(d[key])", 
      "    return r"
     ], 
     "language": "python", 
     "outputs": [], 
     "prompt_number": 70
    }, 
    {
     "cell_type": "code", 
     "collapsed": false, 
     "input": [
      "sort_by_length2(pets)"
     ], 
     "language": "python", 
     "outputs": [
      {
       "output_type": "pyout", 
       "prompt_number": 73, 
       "text": [
        "[&apos;chinchilla&apos;, &apos;chicken&apos;, &apos;rabbit&apos;, &apos;turtle&apos;, &apos;dog&apos;]"
       ]
      }
     ], 
     "prompt_number": 73
    }, 
    {
     "cell_type": "code", 
     "collapsed": false, 
     "input": [
      "sort_by_length2(pets)"
     ], 
     "language": "python", 
     "outputs": [
      {
       "output_type": "pyout", 
       "prompt_number": 74, 
       "text": [
        "[&apos;chinchilla&apos;, &apos;chicken&apos;, &apos;turtle&apos;, &apos;rabbit&apos;, &apos;dog&apos;]"
       ]
      }
     ], 
     "prompt_number": 74
    }, 
    {
     "cell_type": "code", 
     "collapsed": false, 
     "input": [
      "sort_by_length2(pets)"
     ], 
     "language": "python", 
     "outputs": [
      {
       "output_type": "pyout", 
       "prompt_number": 75, 
       "text": [
        "[&apos;chinchilla&apos;, &apos;chicken&apos;, &apos;rabbit&apos;, &apos;turtle&apos;, &apos;dog&apos;]"
       ]
      }
     ], 
     "prompt_number": 75
    }, 
    {
     "cell_type": "code", 
     "collapsed": false, 
     "input": [
      "sort_by_length2(pets)"
     ], 
     "language": "python", 
     "outputs": [
      {
       "output_type": "pyout", 
       "prompt_number": 76, 
       "text": [
        "[&apos;chinchilla&apos;, &apos;chicken&apos;, &apos;rabbit&apos;, &apos;turtle&apos;, &apos;dog&apos;]"
       ]
      }
     ], 
     "prompt_number": 76
    }, 
    {
     "cell_type": "code", 
     "collapsed": true, 
     "input": [
      "#Exercise 12.3", 
      "import string", 
      " ", 
      "def most_frequent(s):", 
      "        d = dict()", 
      "        inv = dict()", 
      "        for char in s:", 
      "                if char in string.ascii_letters:", 
      "                        letter = char.lower()           ", 
      "                        d[letter] = d.get(letter, 0) + 1", 
      " ", 
      "        for letter, freq in d.items():", 
      "                inv.setdefault(freq, []).append(letter)", 
      " ", 
      "        for freq in sorted(inv, reverse=True):", 
      "                print('{:.2%}:'.format(freq/(sum(list(inv)*len(inv[freq])))), ', '.join(inv[freq]))"
     ], 
     "language": "python", 
     "outputs": [], 
     "prompt_number": 80
    }, 
    {
     "cell_type": "code", 
     "collapsed": true, 
     "input": [], 
     "language": "python", 
     "outputs": [], 
     "prompt_number": "&nbsp;"
    }
   ]
  }
 ]
}