{
 "metadata": {
  "name": "ThinkPythonCh11"
 }, 
 "nbformat": 2, 
 "worksheets": [
  {
   "cells": [
    {
     "cell_type": "code", 
     "collapsed": true, 
     "input": [
      "eng2sp = dict()"
     ], 
     "language": "python", 
     "outputs": [], 
     "prompt_number": 3
    }, 
    {
     "cell_type": "code", 
     "collapsed": false, 
     "input": [
      "print eng2sp"
     ], 
     "language": "python", 
     "outputs": [
      {
       "output_type": "stream", 
       "stream": "stdout", 
       "text": [
        "{}"
       ]
      }
     ], 
     "prompt_number": 4
    }, 
    {
     "cell_type": "code", 
     "collapsed": true, 
     "input": [
      "eng2sp['one']='uno'"
     ], 
     "language": "python", 
     "outputs": [], 
     "prompt_number": 5
    }, 
    {
     "cell_type": "code", 
     "collapsed": false, 
     "input": [
      "print eng2sp"
     ], 
     "language": "python", 
     "outputs": [
      {
       "output_type": "stream", 
       "stream": "stdout", 
       "text": [
        "{&apos;one&apos;: &apos;uno&apos;}"
       ]
      }
     ], 
     "prompt_number": 6
    }, 
    {
     "cell_type": "code", 
     "collapsed": true, 
     "input": [
      "eng2sp={'one':'uno','two':'dos','three':'tres'}"
     ], 
     "language": "python", 
     "outputs": [], 
     "prompt_number": 7
    }, 
    {
     "cell_type": "code", 
     "collapsed": false, 
     "input": [
      "print eng2sp"
     ], 
     "language": "python", 
     "outputs": [
      {
       "output_type": "stream", 
       "stream": "stdout", 
       "text": [
        "{&apos;three&apos;: &apos;tres&apos;, &apos;two&apos;: &apos;dos&apos;, &apos;one&apos;: &apos;uno&apos;}"
       ]
      }
     ], 
     "prompt_number": 8
    }, 
    {
     "cell_type": "code", 
     "collapsed": false, 
     "input": [
      "print eng2sp['two']"
     ], 
     "language": "python", 
     "outputs": [
      {
       "output_type": "stream", 
       "stream": "stdout", 
       "text": [
        "dos"
       ]
      }
     ], 
     "prompt_number": 9
    }, 
    {
     "cell_type": "code", 
     "collapsed": false, 
     "input": [
      "print eng2sp['dos']"
     ], 
     "language": "python", 
     "outputs": [
      {
       "ename": "KeyError", 
       "evalue": "'dos'", 
       "output_type": "pyerr", 
       "traceback": [
        "<span class=\"ansired\">---------------------------------------------------------------------------</span>\n<span class=\"ansired\">KeyError</span>                                  Traceback (most recent call last)", 
        "<span class=\"ansigreen\">/Users/RayRay/PHYS200/&lt;ipython-input-10-c3bee2e550be&gt;</span> in <span class=\"ansicyan\">&lt;module&gt;</span><span class=\"ansiblue\">()</span>\n<span class=\"ansigreen\">----&gt; 1</span><span class=\"ansired\"> </span><span class=\"ansigreen\">print</span> eng2sp<span class=\"ansiblue\">[</span><span class=\"ansiblue\">&apos;dos&apos;</span><span class=\"ansiblue\">]</span><span class=\"ansiblue\"></span>\n", 
        "<span class=\"ansired\">KeyError</span>: &apos;dos&apos;"
       ]
      }
     ], 
     "prompt_number": 10
    }, 
    {
     "cell_type": "code", 
     "collapsed": false, 
     "input": [
      "print eng2sp['four']"
     ], 
     "language": "python", 
     "outputs": [
      {
       "ename": "KeyError", 
       "evalue": "'four'", 
       "output_type": "pyerr", 
       "traceback": [
        "<span class=\"ansired\">---------------------------------------------------------------------------</span>\n<span class=\"ansired\">KeyError</span>                                  Traceback (most recent call last)", 
        "<span class=\"ansigreen\">/Users/RayRay/PHYS200/&lt;ipython-input-11-f89af4fe347d&gt;</span> in <span class=\"ansicyan\">&lt;module&gt;</span><span class=\"ansiblue\">()</span>\n<span class=\"ansigreen\">----&gt; 1</span><span class=\"ansired\"> </span><span class=\"ansigreen\">print</span> eng2sp<span class=\"ansiblue\">[</span><span class=\"ansiblue\">&apos;four&apos;</span><span class=\"ansiblue\">]</span><span class=\"ansiblue\"></span>\n", 
        "<span class=\"ansired\">KeyError</span>: &apos;four&apos;"
       ]
      }
     ], 
     "prompt_number": 11
    }, 
    {
     "cell_type": "code", 
     "collapsed": false, 
     "input": [
      "len(eng2sp)"
     ], 
     "language": "python", 
     "outputs": [
      {
       "output_type": "pyout", 
       "prompt_number": 12, 
       "text": [
        "3"
       ]
      }
     ], 
     "prompt_number": 12
    }, 
    {
     "cell_type": "code", 
     "collapsed": false, 
     "input": [
      "'one' in eng2sp"
     ], 
     "language": "python", 
     "outputs": [
      {
       "output_type": "pyout", 
       "prompt_number": 13, 
       "text": [
        "True"
       ]
      }
     ], 
     "prompt_number": 13
    }, 
    {
     "cell_type": "code", 
     "collapsed": false, 
     "input": [
      "'uno' in eng2sp"
     ], 
     "language": "python", 
     "outputs": [
      {
       "output_type": "pyout", 
       "prompt_number": 14, 
       "text": [
        "False"
       ]
      }
     ], 
     "prompt_number": 14
    }, 
    {
     "cell_type": "code", 
     "collapsed": false, 
     "input": [
      "vals=eng2sp.values()", 
      "'uno' in vals"
     ], 
     "language": "python", 
     "outputs": [
      {
       "output_type": "pyout", 
       "prompt_number": 15, 
       "text": [
        "True"
       ]
      }
     ], 
     "prompt_number": 15
    }, 
    {
     "cell_type": "code", 
     "collapsed": true, 
     "input": [
      "def histogram(s):", 
      "    d=dict()", 
      "    for c in s:", 
      "        if c not in d:", 
      "            d[c]=1", 
      "        else:", 
      "                d[c]+=1", 
      "    return d"
     ], 
     "language": "python", 
     "outputs": [], 
     "prompt_number": 20
    }, 
    {
     "cell_type": "code", 
     "collapsed": false, 
     "input": [
      "histogram('brontosaurus')"
     ], 
     "language": "python", 
     "outputs": [
      {
       "output_type": "pyout", 
       "prompt_number": 21, 
       "text": [
        "{&apos;a&apos;: 1, &apos;b&apos;: 1, &apos;n&apos;: 1, &apos;o&apos;: 2, &apos;r&apos;: 2, &apos;s&apos;: 2, &apos;t&apos;: 1, &apos;u&apos;: 2}"
       ]
      }
     ], 
     "prompt_number": 21
    }, 
    {
     "cell_type": "code", 
     "collapsed": false, 
     "input": [
      "h=histogram('a')", 
      "print h"
     ], 
     "language": "python", 
     "outputs": [
      {
       "output_type": "stream", 
       "stream": "stdout", 
       "text": [
        "{&apos;a&apos;: 1}"
       ]
      }
     ], 
     "prompt_number": 22
    }, 
    {
     "cell_type": "code", 
     "collapsed": false, 
     "input": [
      "h.get('a',0)"
     ], 
     "language": "python", 
     "outputs": [
      {
       "output_type": "pyout", 
       "prompt_number": 23, 
       "text": [
        "1"
       ]
      }
     ], 
     "prompt_number": 23
    }, 
    {
     "cell_type": "code", 
     "collapsed": false, 
     "input": [
      "h.get('b',0)"
     ], 
     "language": "python", 
     "outputs": [
      {
       "output_type": "pyout", 
       "prompt_number": 24, 
       "text": [
        "0"
       ]
      }
     ], 
     "prompt_number": 24
    }, 
    {
     "cell_type": "code", 
     "collapsed": false, 
     "input": [
      "#Exercise 11.2", 
      "def new_histogram(s):", 
      "    d=dict()", 
      "    for c in s:", 
      "        d[c] = 1+ d.get(c,0)", 
      "    return d"
     ], 
     "language": "python", 
     "outputs": [], 
     "prompt_number": 28
    }, 
    {
     "cell_type": "code", 
     "collapsed": false, 
     "input": [
      "new_histogram('brontosaurus')"
     ], 
     "language": "python", 
     "outputs": [
      {
       "output_type": "pyout", 
       "prompt_number": 29, 
       "text": [
        "{&apos;a&apos;: 1, &apos;b&apos;: 1, &apos;n&apos;: 1, &apos;o&apos;: 2, &apos;r&apos;: 2, &apos;s&apos;: 2, &apos;t&apos;: 1, &apos;u&apos;: 2}"
       ]
      }
     ], 
     "prompt_number": 29
    }, 
    {
     "cell_type": "code", 
     "collapsed": true, 
     "input": [
      "def print_hist(h):", 
      "    for c in h:", 
      "        print c, h[c]"
     ], 
     "language": "python", 
     "outputs": [], 
     "prompt_number": 30
    }, 
    {
     "cell_type": "code", 
     "collapsed": false, 
     "input": [
      "h=histogram('parrot')", 
      "print_hist(h)"
     ], 
     "language": "python", 
     "outputs": [
      {
       "output_type": "stream", 
       "stream": "stdout", 
       "text": [
        "a 1", 
        "p 1", 
        "r 2", 
        "t 1", 
        "o 1"
       ]
      }
     ], 
     "prompt_number": 33
    }, 
    {
     "cell_type": "code", 
     "collapsed": true, 
     "input": [
      "def reverse_lookup(d,v):", 
      "    for k in d:", 
      "        if d[k] == v:", 
      "            return k", 
      "    raise ValueError"
     ], 
     "language": "python", 
     "outputs": [], 
     "prompt_number": 34
    }, 
    {
     "cell_type": "code", 
     "collapsed": false, 
     "input": [
      "h=histogram('parrot')", 
      "k=reverse_lookup(h,2)", 
      "print k"
     ], 
     "language": "python", 
     "outputs": [
      {
       "output_type": "stream", 
       "stream": "stdout", 
       "text": [
        "r"
       ]
      }
     ], 
     "prompt_number": 35
    }, 
    {
     "cell_type": "code", 
     "collapsed": false, 
     "input": [
      "k=reverse_lookup(h,3)"
     ], 
     "language": "python", 
     "outputs": [
      {
       "ename": "ValueError", 
       "evalue": "", 
       "output_type": "pyerr", 
       "traceback": [
        "<span class=\"ansired\">---------------------------------------------------------------------------</span>\n<span class=\"ansired\">ValueError</span>                                Traceback (most recent call last)", 
        "<span class=\"ansigreen\">/Users/RayRay/PHYS200/&lt;ipython-input-36-b788e18cbcd6&gt;</span> in <span class=\"ansicyan\">&lt;module&gt;</span><span class=\"ansiblue\">()</span>\n<span class=\"ansigreen\">----&gt; 1</span><span class=\"ansired\"> </span>k<span class=\"ansiblue\">=</span>reverse_lookup<span class=\"ansiblue\">(</span>h<span class=\"ansiblue\">,</span><span class=\"ansicyan\">3</span><span class=\"ansiblue\">)</span><span class=\"ansiblue\"></span>\n", 
        "<span class=\"ansigreen\">/Users/RayRay/PHYS200/&lt;ipython-input-34-bb7f167fcbce&gt;</span> in <span class=\"ansicyan\">reverse_lookup</span><span class=\"ansiblue\">(d, v)</span>\n<span class=\"ansigreen\">      3</span>         <span class=\"ansigreen\">if</span> d<span class=\"ansiblue\">[</span>k<span class=\"ansiblue\">]</span> <span class=\"ansiblue\">==</span> v<span class=\"ansiblue\">:</span><span class=\"ansiblue\"></span>\n<span class=\"ansigreen\">      4</span>             <span class=\"ansigreen\">return</span> k<span class=\"ansiblue\"></span>\n<span class=\"ansigreen\">----&gt; 5</span><span class=\"ansired\">     </span><span class=\"ansigreen\">raise</span> ValueError<span class=\"ansiblue\"></span>\n", 
        "<span class=\"ansired\">ValueError</span>: "
       ]
      }
     ], 
     "prompt_number": 36
    }, 
    {
     "cell_type": "code", 
     "collapsed": false, 
     "input": [
      "raise ValueError, 'value does not appear in the dictionary'"
     ], 
     "language": "python", 
     "outputs": [
      {
       "ename": "ValueError", 
       "evalue": "value does not appear in the dictionary", 
       "output_type": "pyerr", 
       "traceback": [
        "<span class=\"ansired\">---------------------------------------------------------------------------</span>\n<span class=\"ansired\">ValueError</span>                                Traceback (most recent call last)", 
        "<span class=\"ansigreen\">/Users/RayRay/PHYS200/&lt;ipython-input-37-c92fecbba11b&gt;</span> in <span class=\"ansicyan\">&lt;module&gt;</span><span class=\"ansiblue\">()</span>\n<span class=\"ansigreen\">----&gt; 1</span><span class=\"ansired\"> </span><span class=\"ansigreen\">raise</span> ValueError<span class=\"ansiblue\">,</span> <span class=\"ansiblue\">&apos;value does not appear in the dictionary&apos;</span><span class=\"ansiblue\"></span>\n", 
        "<span class=\"ansired\">ValueError</span>: value does not appear in the dictionary"
       ]
      }
     ], 
     "prompt_number": 37
    }, 
    {
     "cell_type": "code", 
     "collapsed": false, 
     "input": [
      "#Exercise 11.4", 
      "def reverse_lookup(d,v):", 
      "    l = list()", 
      "    for c in d:", 
      "        if d[c] == v:", 
      "            l.append(c)", 
      "    return l"
     ], 
     "language": "python", 
     "outputs": [], 
     "prompt_number": 43
    }, 
    {
     "cell_type": "code", 
     "collapsed": false, 
     "input": [
      "def invert_dict(d):", 
      "    inv=dict()", 
      "    for key in d:", 
      "        val=d[key]", 
      "        if val not in inv:", 
      "            inv[val]=[key]", 
      "        else:", 
      "            inv[val].append(key)", 
      "    return inv"
     ], 
     "language": "python", 
     "outputs": [], 
     "prompt_number": 51
    }, 
    {
     "cell_type": "code", 
     "collapsed": false, 
     "input": [
      "hist=histogram('parrot')", 
      "print hist"
     ], 
     "language": "python", 
     "outputs": [
      {
       "output_type": "stream", 
       "stream": "stdout", 
       "text": [
        "{&apos;a&apos;: 1, &apos;p&apos;: 1, &apos;r&apos;: 2, &apos;t&apos;: 1, &apos;o&apos;: 1}"
       ]
      }
     ], 
     "prompt_number": 52
    }, 
    {
     "cell_type": "code", 
     "collapsed": false, 
     "input": [
      "inv=invert_dict(hist)", 
      "print inv"
     ], 
     "language": "python", 
     "outputs": [
      {
       "output_type": "stream", 
       "stream": "stdout", 
       "text": [
        "{1: [&apos;a&apos;, &apos;p&apos;, &apos;t&apos;, &apos;o&apos;], 2: [&apos;r&apos;]}"
       ]
      }
     ], 
     "prompt_number": 53
    }, 
    {
     "cell_type": "code", 
     "collapsed": false, 
     "input": [
      "t=[1,2,3]", 
      "d=dict()", 
      "d[t]='oops'"
     ], 
     "language": "python", 
     "outputs": [
      {
       "ename": "TypeError", 
       "evalue": "unhashable type: 'list'", 
       "output_type": "pyerr", 
       "traceback": [
        "<span class=\"ansired\">---------------------------------------------------------------------------</span>\n<span class=\"ansired\">TypeError</span>                                 Traceback (most recent call last)", 
        "<span class=\"ansigreen\">/Users/RayRay/PHYS200/&lt;ipython-input-54-91d7fadf68c5&gt;</span> in <span class=\"ansicyan\">&lt;module&gt;</span><span class=\"ansiblue\">()</span>\n<span class=\"ansigreen\">      1</span> t<span class=\"ansiblue\">=</span><span class=\"ansiblue\">[</span><span class=\"ansicyan\">1</span><span class=\"ansiblue\">,</span><span class=\"ansicyan\">2</span><span class=\"ansiblue\">,</span><span class=\"ansicyan\">3</span><span class=\"ansiblue\">]</span><span class=\"ansiblue\"></span>\n<span class=\"ansigreen\">      2</span> d<span class=\"ansiblue\">=</span>dict<span class=\"ansiblue\">(</span><span class=\"ansiblue\">)</span><span class=\"ansiblue\"></span>\n<span class=\"ansigreen\">----&gt; 3</span><span class=\"ansired\"> </span>d<span class=\"ansiblue\">[</span>t<span class=\"ansiblue\">]</span><span class=\"ansiblue\">=</span><span class=\"ansiblue\">&apos;oops&apos;</span><span class=\"ansiblue\"></span>\n", 
        "<span class=\"ansired\">TypeError</span>: unhashable type: &apos;list&apos;"
       ]
      }
     ], 
     "prompt_number": 54
    }, 
    {
     "cell_type": "code", 
     "collapsed": true, 
     "input": [
      "known={0:0, 1:1}", 
      "", 
      "def fibonacci(n):", 
      "    if n in known:", 
      "        return known[n]", 
      "    ", 
      "    res=fibonacci(n-1)+fibonacci(n-2)", 
      "    known[n]=res", 
      "    return res"
     ], 
     "language": "python", 
     "outputs": [], 
     "prompt_number": 57
    }, 
    {
     "cell_type": "code", 
     "collapsed": false, 
     "input": [
      "fibonacci(2)"
     ], 
     "language": "python", 
     "outputs": [
      {
       "output_type": "pyout", 
       "prompt_number": 58, 
       "text": [
        "1"
       ]
      }
     ], 
     "prompt_number": 58
    }, 
    {
     "cell_type": "code", 
     "collapsed": false, 
     "input": [
      "fibonacci(4)"
     ], 
     "language": "python", 
     "outputs": [
      {
       "output_type": "pyout", 
       "prompt_number": 59, 
       "text": [
        "3"
       ]
      }
     ], 
     "prompt_number": 59
    }, 
    {
     "cell_type": "code", 
     "collapsed": false, 
     "input": [
      "fibonacci(9)"
     ], 
     "language": "python", 
     "outputs": [
      {
       "output_type": "pyout", 
       "prompt_number": 60, 
       "text": [
        "34"
       ]
      }
     ], 
     "prompt_number": 60
    }, 
    {
     "cell_type": "code", 
     "collapsed": true, 
     "input": [
      "verbose=True", 
      "", 
      "def example1():", 
      "    if verbose:", 
      "        print 'Running example1'"
     ], 
     "language": "python", 
     "outputs": [], 
     "prompt_number": 61
    }, 
    {
     "cell_type": "code", 
     "collapsed": false, 
     "input": [
      "been_called=False", 
      "", 
      "def example2():", 
      "    been_called=True"
     ], 
     "language": "python", 
     "outputs": [], 
     "prompt_number": 63
    }, 
    {
     "cell_type": "code", 
     "collapsed": false, 
     "input": [
      "example1()"
     ], 
     "language": "python", 
     "outputs": [
      {
       "output_type": "stream", 
       "stream": "stdout", 
       "text": [
        "Running example1"
       ]
      }
     ], 
     "prompt_number": 64
    }, 
    {
     "cell_type": "code", 
     "collapsed": true, 
     "input": [
      "example2()"
     ], 
     "language": "python", 
     "outputs": [], 
     "prompt_number": 65
    }, 
    {
     "cell_type": "code", 
     "collapsed": true, 
     "input": [
      "been_called=False", 
      "", 
      "def example2():", 
      "    global been_called", 
      "    been_called=True"
     ], 
     "language": "python", 
     "outputs": [], 
     "prompt_number": 66
    }, 
    {
     "cell_type": "code", 
     "collapsed": true, 
     "input": [
      "example2()"
     ], 
     "language": "python", 
     "outputs": [], 
     "prompt_number": 67
    }, 
    {
     "cell_type": "code", 
     "collapsed": true, 
     "input": [
      "count=0", 
      "", 
      "def example2():", 
      "    count=count+1"
     ], 
     "language": "python", 
     "outputs": [], 
     "prompt_number": 68
    }, 
    {
     "cell_type": "code", 
     "collapsed": false, 
     "input": [
      "example2()"
     ], 
     "language": "python", 
     "outputs": [
      {
       "ename": "UnboundLocalError", 
       "evalue": "local variable 'count' referenced before assignment", 
       "output_type": "pyerr", 
       "traceback": [
        "<span class=\"ansired\">---------------------------------------------------------------------------</span>\n<span class=\"ansired\">UnboundLocalError</span>                         Traceback (most recent call last)", 
        "<span class=\"ansigreen\">/Users/RayRay/PHYS200/&lt;ipython-input-69-948b38befdd2&gt;</span> in <span class=\"ansicyan\">&lt;module&gt;</span><span class=\"ansiblue\">()</span>\n<span class=\"ansigreen\">----&gt; 1</span><span class=\"ansired\"> </span>example2<span class=\"ansiblue\">(</span><span class=\"ansiblue\">)</span><span class=\"ansiblue\"></span>\n", 
        "<span class=\"ansigreen\">/Users/RayRay/PHYS200/&lt;ipython-input-68-9fb5b646db02&gt;</span> in <span class=\"ansicyan\">example2</span><span class=\"ansiblue\">()</span>\n<span class=\"ansigreen\">      2</span> <span class=\"ansiblue\"></span>\n<span class=\"ansigreen\">      3</span> <span class=\"ansigreen\">def</span> example2<span class=\"ansiblue\">(</span><span class=\"ansiblue\">)</span><span class=\"ansiblue\">:</span><span class=\"ansiblue\"></span>\n<span class=\"ansigreen\">----&gt; 4</span><span class=\"ansired\">     </span>count<span class=\"ansiblue\">=</span>count<span class=\"ansiblue\">+</span><span class=\"ansicyan\">1</span><span class=\"ansiblue\"></span>\n", 
        "<span class=\"ansired\">UnboundLocalError</span>: local variable &apos;count&apos; referenced before assignment"
       ]
      }
     ], 
     "prompt_number": 69
    }, 
    {
     "cell_type": "code", 
     "collapsed": true, 
     "input": [
      "def example3():", 
      "    global count", 
      "    count +=1"
     ], 
     "language": "python", 
     "outputs": [], 
     "prompt_number": 70
    }, 
    {
     "cell_type": "code", 
     "collapsed": true, 
     "input": [
      "known={0:0, 1:1}", 
      "", 
      "def example4():", 
      "    known[2]=1"
     ], 
     "language": "python", 
     "outputs": [], 
     "prompt_number": 71
    }, 
    {
     "cell_type": "code", 
     "collapsed": false, 
     "input": [
      "def example5():", 
      "    global known", 
      "    known=dict()"
     ], 
     "language": "python", 
     "outputs": [], 
     "prompt_number": 74
    }, 
    {
     "cell_type": "code", 
     "collapsed": false, 
     "input": [
      "1000*1000"
     ], 
     "language": "python", 
     "outputs": [
      {
       "output_type": "pyout", 
       "prompt_number": 77, 
       "text": [
        "1000000"
       ]
      }
     ], 
     "prompt_number": 77
    }, 
    {
     "cell_type": "code", 
     "collapsed": false, 
     "input": [
      "100000*100000"
     ], 
     "language": "python", 
     "outputs": [
      {
       "output_type": "pyout", 
       "prompt_number": 78, 
       "text": [
        "10000000000"
       ]
      }
     ], 
     "prompt_number": 78
    }, 
    {
     "cell_type": "code", 
     "collapsed": true, 
     "input": [], 
     "language": "python", 
     "outputs": [], 
     "prompt_number": "&nbsp;"
    }
   ]
  }
 ]
}