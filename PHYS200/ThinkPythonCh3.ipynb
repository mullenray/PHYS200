{
 "metadata": {
  "name": "ThinkPythonCh3"
 }, 
 "nbformat": 2, 
 "worksheets": [
  {
   "cells": [
    {
     "cell_type": "code", 
     "collapsed": true, 
     "input": [
      "import math"
     ], 
     "language": "python", 
     "outputs": [], 
     "prompt_number": 1
    }, 
    {
     "cell_type": "code", 
     "collapsed": false, 
     "input": [
      "print math"
     ], 
     "language": "python", 
     "outputs": [
      {
       "output_type": "stream", 
       "stream": "stdout", 
       "text": [
        "&lt;module &apos;math&apos; from &apos;/Library/Frameworks/EPD64.framework/Versions/7.2/lib/python2.7/lib-dynload/math.so&apos;&gt;"
       ]
      }
     ], 
     "prompt_number": 2
    }, 
    {
     "cell_type": "code", 
     "collapsed": true, 
     "input": [
      "degrees = 45"
     ], 
     "language": "python", 
     "outputs": [], 
     "prompt_number": 3
    }, 
    {
     "cell_type": "code", 
     "collapsed": true, 
     "input": [
      "radians = degrees/360.0 * 2 * math.pi"
     ], 
     "language": "python", 
     "outputs": [], 
     "prompt_number": 4
    }, 
    {
     "cell_type": "code", 
     "collapsed": false, 
     "input": [
      "math.sin(radians)"
     ], 
     "language": "python", 
     "outputs": [
      {
       "output_type": "pyout", 
       "prompt_number": 5, 
       "text": [
        "0.7071067811865475"
       ]
      }
     ], 
     "prompt_number": 5
    }, 
    {
     "cell_type": "code", 
     "collapsed": false, 
     "input": [
      "math.sqrt(2)/2"
     ], 
     "language": "python", 
     "outputs": [
      {
       "output_type": "pyout", 
       "prompt_number": 6, 
       "text": [
        "0.7071067811865476"
       ]
      }
     ], 
     "prompt_number": 6
    }, 
    {
     "cell_type": "code", 
     "collapsed": true, 
     "input": [
      "def print_lyrics():", 
      "    print \"I'm a lumberjack, and I'm okay.\"", 
      "    print \"I sleep all night and I work all day.\""
     ], 
     "language": "python", 
     "outputs": [], 
     "prompt_number": 7
    }, 
    {
     "cell_type": "code", 
     "collapsed": false, 
     "input": [
      "print print_lyrics"
     ], 
     "language": "python", 
     "outputs": [
      {
       "output_type": "stream", 
       "stream": "stdout", 
       "text": [
        "&lt;function print_lyrics at 0x1098d26e0&gt;"
       ]
      }
     ], 
     "prompt_number": 8
    }, 
    {
     "cell_type": "code", 
     "collapsed": false, 
     "input": [
      "print type(print_lyrics)"
     ], 
     "language": "python", 
     "outputs": [
      {
       "output_type": "stream", 
       "stream": "stdout", 
       "text": [
        "&lt;type &apos;function&apos;&gt;"
       ]
      }
     ], 
     "prompt_number": 9
    }, 
    {
     "cell_type": "code", 
     "collapsed": false, 
     "input": [
      "print_lyrics()"
     ], 
     "language": "python", 
     "outputs": [
      {
       "output_type": "stream", 
       "stream": "stdout", 
       "text": [
        "I&apos;m a lumberjack, and I&apos;m okay.", 
        "I sleep all night and I work all day."
       ]
      }
     ], 
     "prompt_number": 10
    }, 
    {
     "cell_type": "code", 
     "collapsed": true, 
     "input": [
      "def repeat_lyrics():", 
      "    print_lyrics()", 
      "    print_lyrics()"
     ], 
     "language": "python", 
     "outputs": [], 
     "prompt_number": 11
    }, 
    {
     "cell_type": "code", 
     "collapsed": false, 
     "input": [
      "repeat_lyrics()"
     ], 
     "language": "python", 
     "outputs": [
      {
       "output_type": "stream", 
       "stream": "stdout", 
       "text": [
        "I&apos;m a lumberjack, and I&apos;m okay.", 
        "I sleep all night and I work all day.", 
        "I&apos;m a lumberjack, and I&apos;m okay.", 
        "I sleep all night and I work all day."
       ]
      }
     ], 
     "prompt_number": 12
    }, 
    {
     "cell_type": "code", 
     "collapsed": false, 
     "input": [
      "def print_lyrics():", 
      "    print \"I'm a lumberjack, and I'm okay.\"", 
      "    print \"I sleep all night and I work all day.\"", 
      "    ", 
      "def repeat_lyrics():", 
      "    print_lyrics()", 
      "    print_lyrics()", 
      "    ", 
      "repeat_lyrics()"
     ], 
     "language": "python", 
     "outputs": [
      {
       "output_type": "stream", 
       "stream": "stdout", 
       "text": [
        "I&apos;m a lumberjack, and I&apos;m okay.", 
        "I sleep all night and I work all day.", 
        "I&apos;m a lumberjack, and I&apos;m okay.", 
        "I sleep all night and I work all day."
       ]
      }
     ], 
     "prompt_number": 13
    }, 
    {
     "cell_type": "code", 
     "collapsed": false, 
     "input": [
      "repeat_lyrics()", 
      "def print_lyrics():", 
      "    print \"I'm a lumberjack, and I'm okay.\"", 
      "    print \"I sleep all night and I work all day.\"", 
      "    ", 
      "def repeat_lyrics():", 
      "    print_lyrics()", 
      "    print_lyrics()", 
      "    "
     ], 
     "language": "python", 
     "outputs": [
      {
       "output_type": "stream", 
       "stream": "stdout", 
       "text": [
        "I&apos;m a lumberjack, and I&apos;m okay.", 
        "I sleep all night and I work all day.", 
        "I&apos;m a lumberjack, and I&apos;m okay.", 
        "I sleep all night and I work all day."
       ]
      }
     ], 
     "prompt_number": 14
    }, 
    {
     "cell_type": "code", 
     "collapsed": false, 
     "input": [
      "repeat_lyrics()", 
      "", 
      "def print_lyrics():", 
      "    print \"I'm a lumberjack, and I'm okay.\"", 
      "    print \"I sleep all night and I work all day.\"", 
      "    ", 
      "def repeat_lyrics():", 
      "    print_lyrics()", 
      "    print_lyrics()", 
      "    "
     ], 
     "language": "python", 
     "outputs": [
      {
       "output_type": "stream", 
       "stream": "stdout", 
       "text": [
        "I&apos;m a lumberjack, and I&apos;m okay.", 
        "I sleep all night and I work all day.", 
        "I&apos;m a lumberjack, and I&apos;m okay.", 
        "I sleep all night and I work all day."
       ]
      }
     ], 
     "prompt_number": 15
    }, 
    {
     "cell_type": "code", 
     "collapsed": true, 
     "input": [
      "#I don't receive an error message when I execute the above program, I think because repeat_lyrics() was already defined.", 
      "#When I put the above code into a separate python terminal, I recieve the error message: NameError: name 'repeat_lyrics' is not defined"
     ], 
     "language": "python", 
     "outputs": [], 
     "prompt_number": 16
    }, 
    {
     "cell_type": "code", 
     "collapsed": false, 
     "input": [
      "def repeat_lyrics():", 
      "    print_lyrics()", 
      "    print_lyrics()", 
      "    ", 
      "def print_lyrics():", 
      "    print \"I'm a lumberjack, and I'm okay.\"", 
      "    print \"I sleep all night and I work all day.\"", 
      "    ", 
      "repeat_lyrics()"
     ], 
     "language": "python", 
     "outputs": [
      {
       "output_type": "stream", 
       "stream": "stdout", 
       "text": [
        "I&apos;m a lumberjack, and I&apos;m okay.", 
        "I sleep all night and I work all day.", 
        "I&apos;m a lumberjack, and I&apos;m okay.", 
        "I sleep all night and I work all day."
       ]
      }
     ], 
     "prompt_number": 17
    }, 
    {
     "cell_type": "code", 
     "collapsed": true, 
     "input": [
      "#I ran the above code(for exercise 3.2) in a separate python terminal again and this time, there was no error message; it ran the program regularly."
     ], 
     "language": "python", 
     "outputs": [], 
     "prompt_number": 18
    }, 
    {
     "cell_type": "code", 
     "collapsed": true, 
     "input": [], 
     "language": "python", 
     "outputs": [], 
     "prompt_number": "&nbsp;"
    }
   ]
  }
 ]
}