{
 "metadata": {
  "name": "ThinkPythonCh3"
 }, 
 "nbformat": 2, 
 "worksheets": [
  {
   "cells": [
    {
     "cell_type": "code", 
     "collapsed": true, 
     "input": [
      "import math"
     ], 
     "language": "python", 
     "outputs": [], 
     "prompt_number": 1
    }, 
    {
     "cell_type": "code", 
     "collapsed": false, 
     "input": [
      "print math"
     ], 
     "language": "python", 
     "outputs": [
      {
       "output_type": "stream", 
       "stream": "stdout", 
       "text": [
        "&lt;module &apos;math&apos; from &apos;/Library/Frameworks/EPD64.framework/Versions/7.2/lib/python2.7/lib-dynload/math.so&apos;&gt;"
       ]
      }
     ], 
     "prompt_number": 2
    }, 
    {
     "cell_type": "code", 
     "collapsed": true, 
     "input": [
      "degrees = 45"
     ], 
     "language": "python", 
     "outputs": [], 
     "prompt_number": 3
    }, 
    {
     "cell_type": "code", 
     "collapsed": true, 
     "input": [
      "radians = degrees/360.0 * 2 * math.pi"
     ], 
     "language": "python", 
     "outputs": [], 
     "prompt_number": 4
    }, 
    {
     "cell_type": "code", 
     "collapsed": false, 
     "input": [
      "math.sin(radians)"
     ], 
     "language": "python", 
     "outputs": [
      {
       "output_type": "pyout", 
       "prompt_number": 5, 
       "text": [
        "0.7071067811865475"
       ]
      }
     ], 
     "prompt_number": 5
    }, 
    {
     "cell_type": "code", 
     "collapsed": false, 
     "input": [
      "math.sqrt(2)/2"
     ], 
     "language": "python", 
     "outputs": [
      {
       "output_type": "pyout", 
       "prompt_number": 6, 
       "text": [
        "0.7071067811865476"
       ]
      }
     ], 
     "prompt_number": 6
    }, 
    {
     "cell_type": "code", 
     "collapsed": true, 
     "input": [
      "def print_lyrics():", 
      "    print \"I'm a lumberjack, and I'm okay.\"", 
      "    print \"I sleep all night and I work all day.\""
     ], 
     "language": "python", 
     "outputs": [], 
     "prompt_number": 7
    }, 
    {
     "cell_type": "code", 
     "collapsed": false, 
     "input": [
      "print print_lyrics"
     ], 
     "language": "python", 
     "outputs": [
      {
       "output_type": "stream", 
       "stream": "stdout", 
       "text": [
        "&lt;function print_lyrics at 0x1098d26e0&gt;"
       ]
      }
     ], 
     "prompt_number": 8
    }, 
    {
     "cell_type": "code", 
     "collapsed": false, 
     "input": [
      "print type(print_lyrics)"
     ], 
     "language": "python", 
     "outputs": [
      {
       "output_type": "stream", 
       "stream": "stdout", 
       "text": [
        "&lt;type &apos;function&apos;&gt;"
       ]
      }
     ], 
     "prompt_number": 9
    }, 
    {
     "cell_type": "code", 
     "collapsed": false, 
     "input": [
      "print_lyrics()"
     ], 
     "language": "python", 
     "outputs": [
      {
       "output_type": "stream", 
       "stream": "stdout", 
       "text": [
        "I&apos;m a lumberjack, and I&apos;m okay.", 
        "I sleep all night and I work all day."
       ]
      }
     ], 
     "prompt_number": 10
    }, 
    {
     "cell_type": "code", 
     "collapsed": true, 
     "input": [
      "def repeat_lyrics():", 
      "    print_lyrics()", 
      "    print_lyrics()"
     ], 
     "language": "python", 
     "outputs": [], 
     "prompt_number": 11
    }, 
    {
     "cell_type": "code", 
     "collapsed": false, 
     "input": [
      "repeat_lyrics()"
     ], 
     "language": "python", 
     "outputs": [
      {
       "output_type": "stream", 
       "stream": "stdout", 
       "text": [
        "I&apos;m a lumberjack, and I&apos;m okay.", 
        "I sleep all night and I work all day.", 
        "I&apos;m a lumberjack, and I&apos;m okay.", 
        "I sleep all night and I work all day."
       ]
      }
     ], 
     "prompt_number": 12
    }, 
    {
     "cell_type": "code", 
     "collapsed": false, 
     "input": [
      "def print_lyrics():", 
      "    print \"I'm a lumberjack, and I'm okay.\"", 
      "    print \"I sleep all night and I work all day.\"", 
      "    ", 
      "def repeat_lyrics():", 
      "    print_lyrics()", 
      "    print_lyrics()", 
      "    ", 
      "repeat_lyrics()"
     ], 
     "language": "python", 
     "outputs": [
      {
       "output_type": "stream", 
       "stream": "stdout", 
       "text": [
        "I&apos;m a lumberjack, and I&apos;m okay.", 
        "I sleep all night and I work all day.", 
        "I&apos;m a lumberjack, and I&apos;m okay.", 
        "I sleep all night and I work all day."
       ]
      }
     ], 
     "prompt_number": 13
    }, 
    {
     "cell_type": "code", 
     "collapsed": false, 
     "input": [
      "repeat_lyrics()", 
      "def print_lyrics():", 
      "    print \"I'm a lumberjack, and I'm okay.\"", 
      "    print \"I sleep all night and I work all day.\"", 
      "    ", 
      "def repeat_lyrics():", 
      "    print_lyrics()", 
      "    print_lyrics()", 
      "    "
     ], 
     "language": "python", 
     "outputs": [
      {
       "output_type": "stream", 
       "stream": "stdout", 
       "text": [
        "I&apos;m a lumberjack, and I&apos;m okay.", 
        "I sleep all night and I work all day.", 
        "I&apos;m a lumberjack, and I&apos;m okay.", 
        "I sleep all night and I work all day."
       ]
      }
     ], 
     "prompt_number": 14
    }, 
    {
     "cell_type": "code", 
     "collapsed": false, 
     "input": [
      "repeat_lyrics()", 
      "", 
      "def print_lyrics():", 
      "    print \"I'm a lumberjack, and I'm okay.\"", 
      "    print \"I sleep all night and I work all day.\"", 
      "    ", 
      "def repeat_lyrics():", 
      "    print_lyrics()", 
      "    print_lyrics()", 
      "    "
     ], 
     "language": "python", 
     "outputs": [
      {
       "output_type": "stream", 
       "stream": "stdout", 
       "text": [
        "I&apos;m a lumberjack, and I&apos;m okay.", 
        "I sleep all night and I work all day.", 
        "I&apos;m a lumberjack, and I&apos;m okay.", 
        "I sleep all night and I work all day."
       ]
      }
     ], 
     "prompt_number": 15
    }, 
    {
     "cell_type": "code", 
     "collapsed": true, 
     "input": [
      "#I don't receive an error message when I execute the above program, I think because repeat_lyrics() was already defined.", 
      "#When I put the above code into a separate python terminal, I recieve the error message: NameError: name 'repeat_lyrics' is not defined"
     ], 
     "language": "python", 
     "outputs": [], 
     "prompt_number": 16
    }, 
    {
     "cell_type": "code", 
     "collapsed": false, 
     "input": [
      "def repeat_lyrics():", 
      "    print_lyrics()", 
      "    print_lyrics()", 
      "    ", 
      "def print_lyrics():", 
      "    print \"I'm a lumberjack, and I'm okay.\"", 
      "    print \"I sleep all night and I work all day.\"", 
      "    ", 
      "repeat_lyrics()"
     ], 
     "language": "python", 
     "outputs": [
      {
       "output_type": "stream", 
       "stream": "stdout", 
       "text": [
        "I&apos;m a lumberjack, and I&apos;m okay.", 
        "I sleep all night and I work all day.", 
        "I&apos;m a lumberjack, and I&apos;m okay.", 
        "I sleep all night and I work all day."
       ]
      }
     ], 
     "prompt_number": 17
    }, 
    {
     "cell_type": "code", 
     "collapsed": true, 
     "input": [
      "#I ran the above code(for exercise 3.2) in a separate python terminal again and this time, there was no error message; it ran the program regularly."
     ], 
     "language": "python", 
     "outputs": [], 
     "prompt_number": 18
    }, 
    {
     "cell_type": "code", 
     "collapsed": false, 
     "input": [
      "def print_twice(bruce):", 
      "    print bruce", 
      "    print bruce", 
      "    ", 
      "print_twice('Spam')", 
      "print_twice(17)", 
      "print_twice(math.pi)"
     ], 
     "language": "python", 
     "outputs": [
      {
       "output_type": "stream", 
       "stream": "stdout", 
       "text": [
        "Spam", 
        "Spam", 
        "17", 
        "17", 
        "3.14159265359", 
        "3.14159265359"
       ]
      }
     ], 
     "prompt_number": 19
    }, 
    {
     "cell_type": "code", 
     "collapsed": false, 
     "input": [
      "print_twice('Spam '*4)", 
      "print_twice(math.cos(math.pi00"
     ], 
     "language": "python", 
     "outputs": [
      {
       "ename": "SyntaxError", 
       "evalue": "invalid syntax (<ipython-input-20-6d63fb946601>, line 2)", 
       "output_type": "pyerr", 
       "traceback": [
        "<span class=\"ansicyan\">  File </span><span class=\"ansigreen\">&quot;&lt;ipython-input-20-6d63fb946601&gt;&quot;</span><span class=\"ansicyan\">, line </span><span class=\"ansigreen\">2</span>\n<span class=\"ansired\">    print_twice(math.cos(math.pi00</span>\n                                  ^\n<span class=\"ansired\">SyntaxError</span><span class=\"ansired\">:</span> invalid syntax\n"
       ]
      }
     ], 
     "prompt_number": 20
    }, 
    {
     "cell_type": "code", 
     "collapsed": false, 
     "input": [
      "print_twice('Spam '*4)", 
      "print_twice(math.cos(math.pi))"
     ], 
     "language": "python", 
     "outputs": [
      {
       "output_type": "stream", 
       "stream": "stdout", 
       "text": [
        "Spam Spam Spam Spam ", 
        "Spam Spam Spam Spam ", 
        "-1.0", 
        "-1.0"
       ]
      }
     ], 
     "prompt_number": 21
    }, 
    {
     "cell_type": "code", 
     "collapsed": false, 
     "input": [
      "michael='Gob, the bee owner.'", 
      "print_twice(michael)"
     ], 
     "language": "python", 
     "outputs": [
      {
       "output_type": "stream", 
       "stream": "stdout", 
       "text": [
        "Gob, the bee owner.", 
        "Gob, the bee owner."
       ]
      }
     ], 
     "prompt_number": 22
    }, 
    {
     "cell_type": "code", 
     "collapsed": false, 
     "input": [
      "def cat_twice(part1, part2):", 
      "    cat=part1+part2", 
      "    print_twice(cat)", 
      "    ", 
      "line1='Wibbly wobbly '", 
      "line2='timey wimey.'", 
      "cat_twice(line1, line2)"
     ], 
     "language": "python", 
     "outputs": [
      {
       "output_type": "stream", 
       "stream": "stdout", 
       "text": [
        "Wibbly wobbly timey wimey.", 
        "Wibbly wobbly timey wimey."
       ]
      }
     ], 
     "prompt_number": 23
    }, 
    {
     "cell_type": "code", 
     "collapsed": false, 
     "input": [
      "print cat"
     ], 
     "language": "python", 
     "outputs": [
      {
       "ename": "NameError", 
       "evalue": "name 'cat' is not defined", 
       "output_type": "pyerr", 
       "traceback": [
        "<span class=\"ansired\">---------------------------------------------------------------------------</span>\n<span class=\"ansired\">NameError</span>                                 Traceback (most recent call last)", 
        "<span class=\"ansigreen\">/Users/RayRay/PHYS200/&lt;ipython-input-24-1a29d5e57f81&gt;</span> in <span class=\"ansicyan\">&lt;module&gt;</span><span class=\"ansiblue\">()</span>\n<span class=\"ansigreen\">----&gt; 1</span><span class=\"ansired\"> </span><span class=\"ansigreen\">print</span> cat<span class=\"ansiblue\"></span>\n", 
        "<span class=\"ansired\">NameError</span>: name &apos;cat&apos; is not defined"
       ]
      }
     ], 
     "prompt_number": 24
    }, 
    {
     "cell_type": "code", 
     "collapsed": false, 
     "input": [
      "result=print_twice('Bing')"
     ], 
     "language": "python", 
     "outputs": [
      {
       "output_type": "stream", 
       "stream": "stdout", 
       "text": [
        "Bing", 
        "Bing"
       ]
      }
     ], 
     "prompt_number": 25
    }, 
    {
     "cell_type": "code", 
     "collapsed": false, 
     "input": [
      "print result"
     ], 
     "language": "python", 
     "outputs": [
      {
       "output_type": "stream", 
       "stream": "stdout", 
       "text": [
        "None"
       ]
      }
     ], 
     "prompt_number": 26
    }, 
    {
     "cell_type": "code", 
     "collapsed": false, 
     "input": [
      "print type(None)"
     ], 
     "language": "python", 
     "outputs": [
      {
       "output_type": "stream", 
       "stream": "stdout", 
       "text": [
        "&lt;type &apos;NoneType&apos;&gt;"
       ]
      }
     ], 
     "prompt_number": 27
    }, 
    {
     "cell_type": "code", 
     "collapsed": true, 
     "input": [
      "space=' '", 
      "def right_justify(s):", 
      "    print space*(70-len(s))+s", 
      "    "
     ], 
     "language": "python", 
     "outputs": [], 
     "prompt_number": 28
    }, 
    {
     "cell_type": "code", 
     "collapsed": false, 
     "input": [
      "right_justify(allen)"
     ], 
     "language": "python", 
     "outputs": [
      {
       "ename": "NameError", 
       "evalue": "name 'allen' is not defined", 
       "output_type": "pyerr", 
       "traceback": [
        "<span class=\"ansired\">---------------------------------------------------------------------------</span>\n<span class=\"ansired\">NameError</span>                                 Traceback (most recent call last)", 
        "<span class=\"ansigreen\">/Users/RayRay/PHYS200/&lt;ipython-input-29-c6ec898275e3&gt;</span> in <span class=\"ansicyan\">&lt;module&gt;</span><span class=\"ansiblue\">()</span>\n<span class=\"ansigreen\">----&gt; 1</span><span class=\"ansired\"> </span>right_justify<span class=\"ansiblue\">(</span>allen<span class=\"ansiblue\">)</span><span class=\"ansiblue\"></span>\n", 
        "<span class=\"ansired\">NameError</span>: name &apos;allen&apos; is not defined"
       ]
      }
     ], 
     "prompt_number": 29
    }, 
    {
     "cell_type": "code", 
     "collapsed": true, 
     "input": [
      "space=' '", 
      "def right_justify(s):", 
      "    print (space*(70-len(s)))+s"
     ], 
     "language": "python", 
     "outputs": [], 
     "prompt_number": 30
    }, 
    {
     "cell_type": "code", 
     "collapsed": false, 
     "input": [
      "right_justify(allen)"
     ], 
     "language": "python", 
     "outputs": [
      {
       "ename": "NameError", 
       "evalue": "name 'allen' is not defined", 
       "output_type": "pyerr", 
       "traceback": [
        "<span class=\"ansired\">---------------------------------------------------------------------------</span>\n<span class=\"ansired\">NameError</span>                                 Traceback (most recent call last)", 
        "<span class=\"ansigreen\">/Users/RayRay/PHYS200/&lt;ipython-input-31-c6ec898275e3&gt;</span> in <span class=\"ansicyan\">&lt;module&gt;</span><span class=\"ansiblue\">()</span>\n<span class=\"ansigreen\">----&gt; 1</span><span class=\"ansired\"> </span>right_justify<span class=\"ansiblue\">(</span>allen<span class=\"ansiblue\">)</span><span class=\"ansiblue\"></span>\n", 
        "<span class=\"ansired\">NameError</span>: name &apos;allen&apos; is not defined"
       ]
      }
     ], 
     "prompt_number": 31
    }, 
    {
     "cell_type": "code", 
     "collapsed": false, 
     "input": [
      "right_justify('allen')"
     ], 
     "language": "python", 
     "outputs": [
      {
       "output_type": "stream", 
       "stream": "stdout", 
       "text": [
        "                                                                 allen"
       ]
      }
     ], 
     "prompt_number": 32
    }, 
    {
     "cell_type": "code", 
     "collapsed": true, 
     "input": [
      "#Success! (3.3) The function is defined in In[30]."
     ], 
     "language": "python", 
     "outputs": [], 
     "prompt_number": 33
    }, 
    {
     "cell_type": "code", 
     "collapsed": false, 
     "input": [
      "def do_twice(f):", 
      "    f()", 
      "    f()", 
      "    ", 
      "def print_spam():", 
      "    print 'spam'", 
      "    ", 
      "do_twice(print_spam)"
     ], 
     "language": "python", 
     "outputs": [
      {
       "output_type": "stream", 
       "stream": "stdout", 
       "text": [
        "spam", 
        "spam"
       ]
      }
     ], 
     "prompt_number": 37
    }, 
    {
     "cell_type": "code", 
     "collapsed": false, 
     "input": [
      "def do_twice(f, second):", 
      "    f(second)", 
      "    f(second)", 
      "    ", 
      "def print_twice(second):", 
      "    print second", 
      "    print second", 
      "    ", 
      "do_twice(print_twice, 'spam')"
     ], 
     "language": "python", 
     "outputs": [
      {
       "output_type": "stream", 
       "stream": "stdout", 
       "text": [
        "spam", 
        "spam", 
        "spam", 
        "spam"
       ]
      }
     ], 
     "prompt_number": 38
    }, 
    {
     "cell_type": "code", 
     "collapsed": false, 
     "input": [
      "def do_four(f, second):", 
      "    do_twice(f, second)", 
      "    do_twice(f, second)", 
      "    ", 
      "do_four(print_twice, 'spam')"
     ], 
     "language": "python", 
     "outputs": [
      {
       "output_type": "stream", 
       "stream": "stdout", 
       "text": [
        "spam", 
        "spam", 
        "spam", 
        "spam", 
        "spam", 
        "spam", 
        "spam", 
        "spam"
       ]
      }
     ], 
     "prompt_number": 39
    }, 
    {
     "cell_type": "code", 
     "collapsed": false, 
     "input": [
      "def do_twice(f):", 
      "    f()", 
      "    f()", 
      "    ", 
      "def do_four(f):", 
      "    do_twice(f)", 
      "    do_twice(f)", 
      "    ", 
      "def print_beam():", 
      "    print '+ - - - -',", 
      "", 
      "def print_post():", 
      "    print '|        ',", 
      "    ", 
      "def print_beams():", 
      "    do_twice(print_beam)", 
      "    print '+'", 
      "    ", 
      "def print_posts():", 
      "    do_twice(print_post)", 
      "    print '|'", 
      "    ", 
      "def print_row():", 
      "    print_beams()", 
      "    do_four(print_posts)", 
      "    ", 
      "def print_grid():", 
      "    do_twice(print_row)", 
      "    print_beams()", 
      "    ", 
      "print_grid()"
     ], 
     "language": "python", 
     "outputs": [
      {
       "output_type": "stream", 
       "stream": "stdout", 
       "text": [
        "+ - - - - + - - - - +", 
        "|         |         |", 
        "|         |         |", 
        "|         |         |", 
        "|         |         |", 
        "+ - - - - + - - - - +", 
        "|         |         |", 
        "|         |         |", 
        "|         |         |", 
        "|         |         |", 
        "+ - - - - + - - - - +"
       ]
      }
     ], 
     "prompt_number": 40
    }, 
    {
     "cell_type": "code", 
     "collapsed": false, 
     "input": [
      "def one_four_one(f, g, h):", 
      "    f()", 
      "    do_four(g)", 
      "    h()", 
      "", 
      "def print_plus():", 
      "    print '+',", 
      "", 
      "def print_dash():", 
      "    print '-',", 
      "", 
      "def print_bar():", 
      "    print '|',", 
      "", 
      "def print_space():", 
      "    print ' ',", 
      "", 
      "def print_end():", 
      "    print", 
      "", 
      "def nothing():", 
      "    \"do nothing\"", 
      "", 
      "def print1beam():", 
      "    one_four_one(nothing, print_dash, print_plus)", 
      "", 
      "def print1post():", 
      "    one_four_one(nothing, print_space, print_bar)", 
      "", 
      "def print4beams():", 
      "    one_four_one(print_plus, print1beam, print_end)", 
      "", 
      "def print4posts():", 
      "    one_four_one(print_bar, print1post, print_end)", 
      "", 
      "def print_row():", 
      "    one_four_one(nothing, print4posts, print4beams)", 
      "", 
      "def print_grid():", 
      "    one_four_one(print4beams, print_row, nothing)", 
      "", 
      "print_grid()"
     ], 
     "language": "python", 
     "outputs": [
      {
       "output_type": "stream", 
       "stream": "stdout", 
       "text": [
        "+ - - - - + - - - - + - - - - + - - - - +", 
        "|         |         |         |         |", 
        "|         |         |         |         |", 
        "|         |         |         |         |", 
        "|         |         |         |         |", 
        "+ - - - - + - - - - + - - - - + - - - - +", 
        "|         |         |         |         |", 
        "|         |         |         |         |", 
        "|         |         |         |         |", 
        "|         |         |         |         |", 
        "+ - - - - + - - - - + - - - - + - - - - +", 
        "|         |         |         |         |", 
        "|         |    "
       ]
      }, 
      {
       "output_type": "stream", 
       "stream": "stdout", 
       "text": [
        "     |         |         |", 
        "|         |         |         |         |", 
        "|         |         |         |         |", 
        "+ - - - - + - - - - + - - - - + - - - - +", 
        "|         |         |         |         |", 
        "|         |         |         |         |", 
        "|         |         |         |         |", 
        "|         |         |         |         |", 
        "+ - - - - + - - - - + - - - - + - - - - +"
       ]
      }
     ], 
     "prompt_number": 41
    }, 
    {
     "cell_type": "code", 
     "collapsed": true, 
     "input": [], 
     "language": "python", 
     "outputs": [], 
     "prompt_number": "&nbsp;"
    }
   ]
  }
 ]
}