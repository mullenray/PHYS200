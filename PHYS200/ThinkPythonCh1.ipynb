{
 "metadata": {
  "name": "ThinkPythonCh1"
 }, 
 "nbformat": 2, 
 "worksheets": [
  {
   "cells": [
    {
     "cell_type": "code", 
     "collapsed": false, 
     "input": [
      "1+1"
     ], 
     "language": "python", 
     "outputs": [
      {
       "output_type": "pyout", 
       "prompt_number": 1, 
       "text": [
        "2"
       ]
      }
     ], 
     "prompt_number": 1
    }, 
    {
     "cell_type": "code", 
     "collapsed": false, 
     "input": [
      "print 'Hello, World!'"
     ], 
     "language": "python", 
     "outputs": [
      {
       "output_type": "stream", 
       "stream": "stdout", 
       "text": [
        "Hello, World!"
       ]
      }
     ], 
     "prompt_number": 2
    }, 
    {
     "cell_type": "code", 
     "collapsed": false, 
     "input": [
      "print Hello, World!"
     ], 
     "language": "python", 
     "outputs": [
      {
       "ename": "SyntaxError", 
       "evalue": "invalid syntax (<ipython-input-3-6eb4f9ddf320>, line 1)", 
       "output_type": "pyerr", 
       "traceback": [
        "<span class=\"ansicyan\">  File </span><span class=\"ansigreen\">&quot;&lt;ipython-input-3-6eb4f9ddf320&gt;&quot;</span><span class=\"ansicyan\">, line </span><span class=\"ansigreen\">1</span>\n<span class=\"ansired\">    print Hello, World!</span>\n                      ^\n<span class=\"ansired\">SyntaxError</span><span class=\"ansired\">:</span> invalid syntax\n"
       ]
      }
     ], 
     "prompt_number": 3
    }, 
    {
     "cell_type": "code", 
     "collapsed": false, 
     "input": [
      "help()"
     ], 
     "language": "python", 
     "outputs": [
      {
       "ename": "StdinNotImplementedError", 
       "evalue": "raw_input was called, but this frontend does not support stdin.", 
       "output_type": "pyerr", 
       "traceback": [
        "<span class=\"ansired\">---------------------------------------------------------------------------</span>\n<span class=\"ansired\">StdinNotImplementedError</span>                  Traceback (most recent call last)", 
        "<span class=\"ansigreen\">/Users/RayRay/PHYS200/&lt;ipython-input-4-39f0db9d7c42&gt;</span> in <span class=\"ansicyan\">&lt;module&gt;</span><span class=\"ansiblue\">()</span>\n<span class=\"ansigreen\">----&gt; 1</span><span class=\"ansired\"> </span>help<span class=\"ansiblue\">(</span><span class=\"ansiblue\">)</span><span class=\"ansiblue\"></span>\n", 
        "<span class=\"ansigreen\">/Library/Frameworks/EPD64.framework/Versions/7.2/lib/python2.7/site.pyc</span> in <span class=\"ansicyan\">__call__</span><span class=\"ansiblue\">(self, *args, **kwds)</span>\n<span class=\"ansigreen\">    465</span>     <span class=\"ansigreen\">def</span> __call__<span class=\"ansiblue\">(</span>self<span class=\"ansiblue\">,</span> <span class=\"ansiblue\">*</span>args<span class=\"ansiblue\">,</span> <span class=\"ansiblue\">**</span>kwds<span class=\"ansiblue\">)</span><span class=\"ansiblue\">:</span><span class=\"ansiblue\"></span>\n<span class=\"ansigreen\">    466</span>         <span class=\"ansigreen\">import</span> pydoc<span class=\"ansiblue\"></span>\n<span class=\"ansigreen\">--&gt; 467</span><span class=\"ansired\">         </span><span class=\"ansigreen\">return</span> pydoc<span class=\"ansiblue\">.</span>help<span class=\"ansiblue\">(</span><span class=\"ansiblue\">*</span>args<span class=\"ansiblue\">,</span> <span class=\"ansiblue\">**</span>kwds<span class=\"ansiblue\">)</span><span class=\"ansiblue\"></span>\n<span class=\"ansigreen\">    468</span> <span class=\"ansiblue\"></span>\n<span class=\"ansigreen\">    469</span> <span class=\"ansigreen\">def</span> sethelper<span class=\"ansiblue\">(</span><span class=\"ansiblue\">)</span><span class=\"ansiblue\">:</span><span class=\"ansiblue\"></span>\n", 
        "<span class=\"ansigreen\">/Library/Frameworks/EPD64.framework/Versions/7.2/lib/python2.7/pydoc.pyc</span> in <span class=\"ansicyan\">__call__</span><span class=\"ansiblue\">(self, request)</span>\n<span class=\"ansigreen\">   1728</span>         <span class=\"ansigreen\">else</span><span class=\"ansiblue\">:</span><span class=\"ansiblue\"></span>\n<span class=\"ansigreen\">   1729</span>             self<span class=\"ansiblue\">.</span>intro<span class=\"ansiblue\">(</span><span class=\"ansiblue\">)</span><span class=\"ansiblue\"></span>\n<span class=\"ansigreen\">-&gt; 1730</span><span class=\"ansired\">             </span>self<span class=\"ansiblue\">.</span>interact<span class=\"ansiblue\">(</span><span class=\"ansiblue\">)</span><span class=\"ansiblue\"></span>\n<span class=\"ansigreen\">   1731</span>             self.output.write(&apos;&apos;&apos;\n<span class=\"ansigreen\">   1732</span> You are now leaving help <span class=\"ansigreen\">and</span> returning to the Python interpreter<span class=\"ansiblue\">.</span><span class=\"ansiblue\"></span>\n", 
        "<span class=\"ansigreen\">/Library/Frameworks/EPD64.framework/Versions/7.2/lib/python2.7/pydoc.pyc</span> in <span class=\"ansicyan\">interact</span><span class=\"ansiblue\">(self)</span>\n<span class=\"ansigreen\">   1740</span>         <span class=\"ansigreen\">while</span> True<span class=\"ansiblue\">:</span><span class=\"ansiblue\"></span>\n<span class=\"ansigreen\">   1741</span>             <span class=\"ansigreen\">try</span><span class=\"ansiblue\">:</span><span class=\"ansiblue\"></span>\n<span class=\"ansigreen\">-&gt; 1742</span><span class=\"ansired\">                 </span>request <span class=\"ansiblue\">=</span> self<span class=\"ansiblue\">.</span>getline<span class=\"ansiblue\">(</span><span class=\"ansiblue\">&apos;help&gt; &apos;</span><span class=\"ansiblue\">)</span><span class=\"ansiblue\"></span>\n<span class=\"ansigreen\">   1743</span>                 <span class=\"ansigreen\">if</span> <span class=\"ansigreen\">not</span> request<span class=\"ansiblue\">:</span> <span class=\"ansigreen\">break</span><span class=\"ansiblue\"></span>\n<span class=\"ansigreen\">   1744</span>             <span class=\"ansigreen\">except</span> <span class=\"ansiblue\">(</span>KeyboardInterrupt<span class=\"ansiblue\">,</span> EOFError<span class=\"ansiblue\">)</span><span class=\"ansiblue\">:</span><span class=\"ansiblue\"></span>\n", 
        "<span class=\"ansigreen\">/Library/Frameworks/EPD64.framework/Versions/7.2/lib/python2.7/pydoc.pyc</span> in <span class=\"ansicyan\">getline</span><span class=\"ansiblue\">(self, prompt)</span>\n<span class=\"ansigreen\">   1751</span>         <span class=\"ansiblue\">&quot;&quot;&quot;Read one line, using raw_input when available.&quot;&quot;&quot;</span><span class=\"ansiblue\"></span>\n<span class=\"ansigreen\">   1752</span>         <span class=\"ansigreen\">if</span> self<span class=\"ansiblue\">.</span>input <span class=\"ansigreen\">is</span> sys<span class=\"ansiblue\">.</span>stdin<span class=\"ansiblue\">:</span><span class=\"ansiblue\"></span>\n<span class=\"ansigreen\">-&gt; 1753</span><span class=\"ansired\">             </span><span class=\"ansigreen\">return</span> raw_input<span class=\"ansiblue\">(</span>prompt<span class=\"ansiblue\">)</span><span class=\"ansiblue\"></span>\n<span class=\"ansigreen\">   1754</span>         <span class=\"ansigreen\">else</span><span class=\"ansiblue\">:</span><span class=\"ansiblue\"></span>\n<span class=\"ansigreen\">   1755</span>             self<span class=\"ansiblue\">.</span>output<span class=\"ansiblue\">.</span>write<span class=\"ansiblue\">(</span>prompt<span class=\"ansiblue\">)</span><span class=\"ansiblue\"></span>\n", 
        "<span class=\"ansigreen\">/Library/Frameworks/EPD64.framework/Versions/7.2/lib/python2.7/site-packages/IPython/zmq/ipkernel.py</span> in <span class=\"ansicyan\">&lt;lambda&gt;</span><span class=\"ansiblue\">(prompt)</span>\n<span class=\"ansigreen\">    251</span>             raw_input <span class=\"ansiblue\">=</span> <span class=\"ansigreen\">lambda</span> prompt<span class=\"ansiblue\">=</span><span class=\"ansiblue\">&apos;&apos;</span><span class=\"ansiblue\">:</span> self<span class=\"ansiblue\">.</span>_raw_input<span class=\"ansiblue\">(</span>prompt<span class=\"ansiblue\">,</span> ident<span class=\"ansiblue\">,</span> parent<span class=\"ansiblue\">)</span><span class=\"ansiblue\"></span>\n<span class=\"ansigreen\">    252</span>         <span class=\"ansigreen\">else</span><span class=\"ansiblue\">:</span><span class=\"ansiblue\"></span>\n<span class=\"ansigreen\">--&gt; 253</span><span class=\"ansired\">             </span>raw_input <span class=\"ansiblue\">=</span> <span class=\"ansigreen\">lambda</span> prompt<span class=\"ansiblue\">=</span><span class=\"ansiblue\">&apos;&apos;</span> <span class=\"ansiblue\">:</span> self<span class=\"ansiblue\">.</span>_no_raw_input<span class=\"ansiblue\">(</span><span class=\"ansiblue\">)</span><span class=\"ansiblue\"></span>\n<span class=\"ansigreen\">    254</span> <span class=\"ansiblue\"></span>\n<span class=\"ansigreen\">    255</span>         <span class=\"ansigreen\">if</span> py3compat<span class=\"ansiblue\">.</span>PY3<span class=\"ansiblue\">:</span><span class=\"ansiblue\"></span>\n", 
        "<span class=\"ansigreen\">/Library/Frameworks/EPD64.framework/Versions/7.2/lib/python2.7/site-packages/IPython/zmq/ipkernel.py</span> in <span class=\"ansicyan\">_no_raw_input</span><span class=\"ansiblue\">(self)</span>\n<span class=\"ansigreen\">    443</span>         &quot;&quot;&quot;Raise StdinNotImplentedError if active frontend doesn&apos;t support\n<span class=\"ansigreen\">    444</span>         stdin.&quot;&quot;&quot;\n<span class=\"ansigreen\">--&gt; 445</span><span class=\"ansired\">         raise StdinNotImplementedError(&quot;raw_input was called, but this &quot;\n</span><span class=\"ansigreen\">    446</span>                                        &quot;frontend does not support stdin.&quot;) \n<span class=\"ansigreen\">    447</span> <span class=\"ansiblue\"></span>\n", 
        "<span class=\"ansired\">StdinNotImplementedError</span>: raw_input was called, but this frontend does not support stdin."
       ]
      }, 
      {
       "output_type": "stream", 
       "stream": "stdout", 
       "text": [
        "", 
        "Welcome to Python 2.7!  This is the online help utility.", 
        "", 
        "If this is your first time using Python, you should definitely check out", 
        "the tutorial on the Internet at http://docs.python.org/tutorial/.", 
        "", 
        "Enter the name of any keyword, or topic to get help on writing Python", 
        "programs and using Python.  To quit this help utility and return to the", 
        "interpreter, just type &quot;quit&quot;.", 
        "", 
        "To get a list of available modules, keywords, or topics, type &quot;keywords&quot;,", 
        "or &quot;topics&quot;.", 
        ""
       ]
      }
     ], 
     "prompt_number": 4
    }, 
    {
     "cell_type": "code", 
     "collapsed": false, 
     "input": [
      "help(print)"
     ], 
     "language": "python", 
     "outputs": [
      {
       "ename": "SyntaxError", 
       "evalue": "invalid syntax (<ipython-input-5-3e4738e8def3>, line 1)", 
       "output_type": "pyerr", 
       "traceback": [
        "<span class=\"ansicyan\">  File </span><span class=\"ansigreen\">&quot;&lt;ipython-input-5-3e4738e8def3&gt;&quot;</span><span class=\"ansicyan\">, line </span><span class=\"ansigreen\">1</span>\n<span class=\"ansired\">    help(print)</span>\n             ^\n<span class=\"ansired\">SyntaxError</span><span class=\"ansired\">:</span> invalid syntax\n"
       ]
      }
     ], 
     "prompt_number": 5
    }, 
    {
     "cell_type": "code", 
     "collapsed": false, 
     "input": [
      "help('print')"
     ], 
     "language": "python", 
     "outputs": [
      {
       "output_type": "stream", 
       "stream": "stdout", 
       "text": [
        "The &#96;&#96;print&#96;&#96; statement", 
        "***********************", 
        "", 
        "   print_stmt ::= &quot;print&quot; ([expression (&quot;,&quot; expression)* [&quot;,&quot;]]", 
        "                  | &quot;&gt;&gt;&quot; expression [(&quot;,&quot; expression)+ [&quot;,&quot;]])", 
        "", 
        "&#96;&#96;print&#96;&#96; evaluates each expression in turn and writes the resulting", 
        "object to standard output (see below).  If an object is not a string,", 
        "it is first converted to a string using the rules for string", 
        "conversions.  The (resulting or original) string is then written.  A", 
        "space is written before each object is (converted and) written, unless", 
        "the output system believes it is positioned at the beginning of a", 
        "line.  This is the case (1) when no characters have yet been written", 
        "to standard output, (2) when the last character written to standard", 
        "output is a whitespace character except &#96;&#96;&apos; &apos;&#96;&#96;, or (3) when the last", 
        "write operation on standard output was not a &#96;&#96;print&#96;&#96; statement. (In", 
        "some cases it may be functional to write an empty string to standard", 
        "output for this reason.)", 
        "", 
        "Note: Objects which act like file objects but which are not the built-in", 
        "  file objects often do not properly emulate this aspect of the file", 
        "  object&apos;s behavior, so it is best not to rely on this.", 
        "", 
        "A &#96;&#96;&apos;\\n&apos;&#96;&#96; character is written at the end, unless the &#96;&#96;print&#96;&#96;", 
        "statement ends with a comma.  This is the only action if the statement", 
        "contains just the keyword &#96;&#96;print&#96;&#96;.", 
        "", 
        "Standard output is defined as the file object named &#96;&#96;stdout&#96;&#96; in the", 
        "built-in module &#96;&#96;sys&#96;&#96;.  If no such object exists, or if it does not", 
        "have a &#96;&#96;write()&#96;&#96; method, a &#96;&#96;RuntimeError&#96;&#96; exception is raised.", 
        "", 
        "&#96;&#96;print&#96;&#96; also has an extended form, defined by the second portion of", 
        "the syntax described above. This form is sometimes referred to as", 
        "&quot;&#96;&#96;print&#96;&#96; chevron.&quot; In this form, the first expression after the", 
        "&#96;&#96;&gt;&gt;&#96;&#96; must evaluate to a &quot;file-like&quot; object, specifically an object", 
        "that has a &#96;&#96;write()&#96;&#96; method as described above.  With this extended", 
        "form, the subsequent expressions are printed to this file object.  If", 
        "the first expression evaluates to &#96;&#96;None&#96;&#96;, then &#96;&#96;sys.stdout&#96;&#96; is", 
        "used as the file for output.", 
        ""
       ]
      }
     ], 
     "prompt_number": 6
    }, 
    {
     "cell_type": "code", 
     "collapsed": false, 
     "input": [
      "10/1.61"
     ], 
     "language": "python", 
     "outputs": [
      {
       "output_type": "pyout", 
       "prompt_number": 7, 
       "text": [
        "6.211180124223602"
       ]
      }
     ], 
     "prompt_number": 7
    }, 
    {
     "cell_type": "code", 
     "collapsed": false, 
     "input": [
      "43.5/Out[7]"
     ], 
     "language": "python", 
     "outputs": [
      {
       "output_type": "pyout", 
       "prompt_number": 8, 
       "text": [
        "7.003500000000001"
       ]
      }
     ], 
     "prompt_number": 8
    }, 
    {
     "cell_type": "code", 
     "collapsed": false, 
     "input": [
      "print 'My average time per mile is 7 minutes/mile.'"
     ], 
     "language": "python", 
     "outputs": [
      {
       "output_type": "stream", 
       "stream": "stdout", 
       "text": [
        "My average time per mile is 7 minutes/mile."
       ]
      }
     ], 
     "prompt_number": 9
    }, 
    {
     "cell_type": "code", 
     "collapsed": true, 
     "input": [], 
     "language": "python", 
     "outputs": [], 
     "prompt_number": "&nbsp;"
    }
   ]
  }
 ]
}