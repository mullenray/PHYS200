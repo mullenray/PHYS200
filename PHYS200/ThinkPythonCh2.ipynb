{
 "metadata": {
  "name": "ThinkPythonCh2"
 }, 
 "nbformat": 2, 
 "worksheets": [
  {
   "cells": [
    {
     "cell_type": "code", 
     "collapsed": true, 
     "input": [], 
     "language": "python", 
     "outputs": [], 
     "prompt_number": "&nbsp;"
    }
   ]
  }
 ]
}